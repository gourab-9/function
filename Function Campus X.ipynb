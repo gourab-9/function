{
 "cells": [
  {
   "cell_type": "code",
   "execution_count": 1,
   "id": "cf905a80",
   "metadata": {},
   "outputs": [],
   "source": [
    "# Create a function with (docs string)\n",
    "\n",
    "def is_even (num):\n",
    "    \"\"\"\n",
    "    This function returns if a given number is even or odd\n",
    "    input- any valid integer\n",
    "    output- odd/even\n",
    "    created on - 16 march 2023\n",
    "    \"\"\"\n",
    "    if type(num) == int:\n",
    "        if num % 2 == 0:\n",
    "            return 'even'\n",
    "        else:\n",
    "            return 'odd'\n",
    "    else:\n",
    "        return 'kuchh v karte ho bhai '"
   ]
  },
  {
   "cell_type": "code",
   "execution_count": 2,
   "id": "0a5ec2e1",
   "metadata": {},
   "outputs": [
    {
     "name": "stdout",
     "output_type": "stream",
     "text": [
      "1 odd\n",
      "2 even\n",
      "3 odd\n",
      "4 even\n",
      "5 odd\n",
      "6 even\n",
      "7 odd\n",
      "8 even\n",
      "9 odd\n",
      "10 even\n"
     ]
    }
   ],
   "source": [
    "for i in range(1,11):\n",
    "    x = is_even(i)\n",
    "    print(i,x)"
   ]
  },
  {
   "cell_type": "code",
   "execution_count": 3,
   "id": "6df5d73d",
   "metadata": {},
   "outputs": [
    {
     "data": {
      "text/plain": [
       "'kuchh v karte ho bhai '"
      ]
     },
     "execution_count": 3,
     "metadata": {},
     "output_type": "execute_result"
    }
   ],
   "source": [
    "is_even('hello')"
   ]
  },
  {
   "cell_type": "code",
   "execution_count": 4,
   "id": "ad8b1ea9",
   "metadata": {},
   "outputs": [
    {
     "data": {
      "text/plain": [
       "'odd'"
      ]
     },
     "execution_count": 4,
     "metadata": {},
     "output_type": "execute_result"
    }
   ],
   "source": [
    "is_even(9)"
   ]
  },
  {
   "cell_type": "raw",
   "id": "22be83f7",
   "metadata": {},
   "source": [
    "at the time of making function that is known as parameter and at the time when we are using that function that is known as argument"
   ]
  },
  {
   "cell_type": "code",
   "execution_count": 5,
   "id": "58b175b6",
   "metadata": {},
   "outputs": [],
   "source": [
    "def power(a,b):         # def power(a=1,b=1):\n",
    "    return (a**b)       #     return (a,b)   (Default parameter)  "
   ]
  },
  {
   "cell_type": "code",
   "execution_count": 6,
   "id": "69941606",
   "metadata": {},
   "outputs": [
    {
     "data": {
      "text/plain": [
       "8"
      ]
     },
     "execution_count": 6,
     "metadata": {},
     "output_type": "execute_result"
    }
   ],
   "source": [
    "power(2,3)"
   ]
  },
  {
   "cell_type": "code",
   "execution_count": 7,
   "id": "9e08e830",
   "metadata": {},
   "outputs": [
    {
     "data": {
      "text/plain": [
       "8"
      ]
     },
     "execution_count": 7,
     "metadata": {},
     "output_type": "execute_result"
    }
   ],
   "source": [
    "# positional argument\n",
    "power(2,3)"
   ]
  },
  {
   "cell_type": "code",
   "execution_count": 8,
   "id": "34052ced",
   "metadata": {},
   "outputs": [
    {
     "data": {
      "text/plain": [
       "8"
      ]
     },
     "execution_count": 8,
     "metadata": {},
     "output_type": "execute_result"
    }
   ],
   "source": [
    "# keyword argument\n",
    "power(b=3,a=2)"
   ]
  },
  {
   "cell_type": "raw",
   "id": "410dd878",
   "metadata": {},
   "source": [
    "*args and **kwargs are special python keywords that are used to pass the variable length of arguments to a function."
   ]
  },
  {
   "cell_type": "code",
   "execution_count": 9,
   "id": "800d7da1",
   "metadata": {},
   "outputs": [],
   "source": [
    "# *args\n",
    "# allows us to pass variable number of non-keyword arguments to a function\n",
    "\n",
    "def multiply(a,b):\n",
    "    return (a*b)"
   ]
  },
  {
   "cell_type": "code",
   "execution_count": 10,
   "id": "a14ae525",
   "metadata": {},
   "outputs": [
    {
     "data": {
      "text/plain": [
       "12"
      ]
     },
     "execution_count": 10,
     "metadata": {},
     "output_type": "execute_result"
    }
   ],
   "source": [
    "multiply(3,4)"
   ]
  },
  {
   "cell_type": "code",
   "execution_count": 11,
   "id": "0081954d",
   "metadata": {},
   "outputs": [],
   "source": [
    "def multiply(*args):\n",
    "    product = 1\n",
    "    \n",
    "    for i in args:\n",
    "        product = product * i\n",
    "#    print(args)    \n",
    "    return product"
   ]
  },
  {
   "cell_type": "code",
   "execution_count": 12,
   "id": "d95e0593",
   "metadata": {},
   "outputs": [
    {
     "data": {
      "text/plain": [
       "362880"
      ]
     },
     "execution_count": 12,
     "metadata": {},
     "output_type": "execute_result"
    }
   ],
   "source": [
    "multiply(1,2,3,4,5,6,7,8,9)"
   ]
  },
  {
   "cell_type": "code",
   "execution_count": 13,
   "id": "9fab59e1",
   "metadata": {},
   "outputs": [
    {
     "name": "stdout",
     "output_type": "stream",
     "text": [
      "\n",
      "    This function returns if a given number is even or odd\n",
      "    input- any valid integer\n",
      "    output- odd/even\n",
      "    created on - 16 march 2023\n",
      "    \n"
     ]
    }
   ],
   "source": [
    "print(is_even.__doc__)"
   ]
  },
  {
   "cell_type": "code",
   "execution_count": 14,
   "id": "52ded616",
   "metadata": {},
   "outputs": [
    {
     "name": "stdout",
     "output_type": "stream",
     "text": [
      "print(value, ..., sep=' ', end='\\n', file=sys.stdout, flush=False)\n",
      "\n",
      "Prints the values to a stream, or to sys.stdout by default.\n",
      "Optional keyword arguments:\n",
      "file:  a file-like object (stream); defaults to the current sys.stdout.\n",
      "sep:   string inserted between values, default a space.\n",
      "end:   string appended after the last value, default a newline.\n",
      "flush: whether to forcibly flush the stream.\n"
     ]
    }
   ],
   "source": [
    "print(print.__doc__)"
   ]
  },
  {
   "cell_type": "code",
   "execution_count": 15,
   "id": "82987015",
   "metadata": {},
   "outputs": [
    {
     "name": "stdout",
     "output_type": "stream",
     "text": [
      "None\n"
     ]
    }
   ],
   "source": [
    "print(multiply.__doc__)"
   ]
  },
  {
   "cell_type": "code",
   "execution_count": 16,
   "id": "7eac8eb6",
   "metadata": {},
   "outputs": [],
   "source": [
    "def display(**kwargs):    # when you want to make a function who will work as a dictionary use ** star\n",
    "                          # ** kwargs work as a dictionary. you can use any name instead of kwargs\n",
    "    for (key,value) in kwargs.items():\n",
    "        print(key,'-->',value)"
   ]
  },
  {
   "cell_type": "code",
   "execution_count": 17,
   "id": "c4029a57",
   "metadata": {},
   "outputs": [
    {
     "name": "stdout",
     "output_type": "stream",
     "text": [
      "Bihar --> Patna\n",
      "Punjab --> chandigarh\n",
      "Telangana --> Hyderabad\n"
     ]
    }
   ],
   "source": [
    "display(Bihar='Patna',Punjab='chandigarh',Telangana='Hyderabad')"
   ]
  },
  {
   "cell_type": "markdown",
   "id": "0473fc39",
   "metadata": {},
   "source": [
    "<b>(1)orders of arguments matter (normal -> *args-> **kwargs)</b>\n",
    "    \n",
    "<b>(2)The words \"args\" and \"kwargs\" are only a convention, you can use any name of your choice</b>"
   ]
  },
  {
   "cell_type": "code",
   "execution_count": 18,
   "id": "f0d41bc8",
   "metadata": {},
   "outputs": [
    {
     "name": "stdout",
     "output_type": "stream",
     "text": [
      "None\n"
     ]
    }
   ],
   "source": [
    "l = [1,2,3]\n",
    "print(l.append(4))"
   ]
  },
  {
   "cell_type": "code",
   "execution_count": 19,
   "id": "331424f2",
   "metadata": {},
   "outputs": [
    {
     "name": "stdout",
     "output_type": "stream",
     "text": [
      "[1, 2, 3, 4]\n"
     ]
    }
   ],
   "source": [
    "print(l)"
   ]
  },
  {
   "cell_type": "code",
   "execution_count": 20,
   "id": "a8ca33bb",
   "metadata": {},
   "outputs": [],
   "source": [
    "def square_root(a):\n",
    "    print ((a)**0.5)"
   ]
  },
  {
   "cell_type": "code",
   "execution_count": 21,
   "id": "beee2771",
   "metadata": {},
   "outputs": [
    {
     "name": "stdout",
     "output_type": "stream",
     "text": [
      "4.0\n"
     ]
    }
   ],
   "source": [
    "square_root(16)"
   ]
  },
  {
   "cell_type": "code",
   "execution_count": 22,
   "id": "82a83f5f",
   "metadata": {},
   "outputs": [],
   "source": [
    "def even(num):\n",
    "    \n",
    "    if num % 2 == 0:\n",
    "        print ('number_is_even')\n",
    "    else:\n",
    "        print ('num_is_odd')"
   ]
  },
  {
   "cell_type": "code",
   "execution_count": 23,
   "id": "ee2be62d",
   "metadata": {},
   "outputs": [
    {
     "name": "stdout",
     "output_type": "stream",
     "text": [
      "num_is_odd\n"
     ]
    }
   ],
   "source": [
    "even(9)"
   ]
  },
  {
   "cell_type": "code",
   "execution_count": 24,
   "id": "923a22fa",
   "metadata": {},
   "outputs": [
    {
     "name": "stdout",
     "output_type": "stream",
     "text": [
      "enter your number765\n",
      "567\n"
     ]
    }
   ],
   "source": [
    "num = int(input(\"enter your number\"))\n",
    "\n",
    "rev = 0\n",
    "while num != 0:\n",
    "    a = num % 10\n",
    "    rev = a+  rev *10\n",
    "    num = num // 10 \n",
    "print(rev)"
   ]
  },
  {
   "cell_type": "code",
   "execution_count": 25,
   "id": "e74166c2",
   "metadata": {},
   "outputs": [
    {
     "name": "stdout",
     "output_type": "stream",
     "text": [
      "5\n",
      "6\n",
      "None\n"
     ]
    }
   ],
   "source": [
    "# Variable scope \n",
    "def g(x):\n",
    "    print(x)\n",
    "    print(x+1)\n",
    "    \n",
    "x = 5\n",
    "a = g(x)\n",
    "print(a)"
   ]
  },
  {
   "cell_type": "code",
   "execution_count": 26,
   "id": "8709a411",
   "metadata": {},
   "outputs": [
    {
     "name": "stdout",
     "output_type": "stream",
     "text": [
      "2\n",
      "5\n"
     ]
    }
   ],
   "source": [
    "def f(y):\n",
    "    x = 1\n",
    "    x += 1\n",
    "    print(x)\n",
    "    \n",
    "x = 5\n",
    "f(x)\n",
    "print(x)"
   ]
  },
  {
   "cell_type": "code",
   "execution_count": 27,
   "id": "b01994fc",
   "metadata": {},
   "outputs": [
    {
     "ename": "UnboundLocalError",
     "evalue": "local variable 'x' referenced before assignment",
     "output_type": "error",
     "traceback": [
      "\u001b[1;31m---------------------------------------------------------------------------\u001b[0m",
      "\u001b[1;31mUnboundLocalError\u001b[0m                         Traceback (most recent call last)",
      "Input \u001b[1;32mIn [27]\u001b[0m, in \u001b[0;36m<cell line: 5>\u001b[1;34m()\u001b[0m\n\u001b[0;32m      2\u001b[0m     x \u001b[38;5;241m+\u001b[39m\u001b[38;5;241m=\u001b[39m \u001b[38;5;241m1\u001b[39m\n\u001b[0;32m      4\u001b[0m x \u001b[38;5;241m=\u001b[39m \u001b[38;5;241m5\u001b[39m\n\u001b[1;32m----> 5\u001b[0m \u001b[43mh\u001b[49m\u001b[43m(\u001b[49m\u001b[43mx\u001b[49m\u001b[43m)\u001b[49m\n\u001b[0;32m      6\u001b[0m \u001b[38;5;28mprint\u001b[39m(x)\n",
      "Input \u001b[1;32mIn [27]\u001b[0m, in \u001b[0;36mh\u001b[1;34m(y)\u001b[0m\n\u001b[0;32m      1\u001b[0m \u001b[38;5;28;01mdef\u001b[39;00m \u001b[38;5;21mh\u001b[39m(y):\n\u001b[1;32m----> 2\u001b[0m     x \u001b[38;5;241m+\u001b[39m\u001b[38;5;241m=\u001b[39m \u001b[38;5;241m1\u001b[39m\n",
      "\u001b[1;31mUnboundLocalError\u001b[0m: local variable 'x' referenced before assignment"
     ]
    }
   ],
   "source": [
    "def h(y):\n",
    "    x += 1\n",
    "    \n",
    "x = 5\n",
    "h(x)\n",
    "print(x)"
   ]
  },
  {
   "cell_type": "code",
   "execution_count": 28,
   "id": "f7cd26bc",
   "metadata": {},
   "outputs": [
    {
     "name": "stdout",
     "output_type": "stream",
     "text": [
      "6\n"
     ]
    }
   ],
   "source": [
    "def h(y):\n",
    "    global x\n",
    "    x += 1\n",
    "    \n",
    "x = 5\n",
    "h(x)\n",
    "print(x)"
   ]
  },
  {
   "cell_type": "code",
   "execution_count": 29,
   "id": "e178d971",
   "metadata": {},
   "outputs": [
    {
     "name": "stdout",
     "output_type": "stream",
     "text": [
      "in f(x): x = 4\n",
      "in main program scope: z =  4\n",
      "in main program scope: x =  3\n"
     ]
    }
   ],
   "source": [
    "def f(x):\n",
    "    x = x+1\n",
    "    print(\"in f(x): x =\",x)\n",
    "    return x\n",
    "\n",
    "x = 3\n",
    "z = f(x)\n",
    "print(\"in main program scope: z = \",z)\n",
    "print(\"in main program scope: x = \",x)"
   ]
  },
  {
   "cell_type": "code",
   "execution_count": 30,
   "id": "ac4e7e14",
   "metadata": {},
   "outputs": [],
   "source": [
    "def f():\n",
    "    def g():\n",
    "        print('inside function g')\n",
    "#        f()\n",
    "    g()\n",
    "    print('inside function f')"
   ]
  },
  {
   "cell_type": "code",
   "execution_count": 31,
   "id": "f864d0e9",
   "metadata": {},
   "outputs": [
    {
     "name": "stdout",
     "output_type": "stream",
     "text": [
      "inside function g\n",
      "inside function f\n"
     ]
    }
   ],
   "source": [
    "f()"
   ]
  },
  {
   "cell_type": "code",
   "execution_count": 32,
   "id": "7770dc7d",
   "metadata": {},
   "outputs": [
    {
     "ename": "TypeError",
     "evalue": "g() missing 1 required positional argument: 'x'",
     "output_type": "error",
     "traceback": [
      "\u001b[1;31m---------------------------------------------------------------------------\u001b[0m",
      "\u001b[1;31mTypeError\u001b[0m                                 Traceback (most recent call last)",
      "Input \u001b[1;32mIn [32]\u001b[0m, in \u001b[0;36m<cell line: 1>\u001b[1;34m()\u001b[0m\n\u001b[1;32m----> 1\u001b[0m \u001b[43mg\u001b[49m\u001b[43m(\u001b[49m\u001b[43m)\u001b[49m\n",
      "\u001b[1;31mTypeError\u001b[0m: g() missing 1 required positional argument: 'x'"
     ]
    }
   ],
   "source": [
    "g()"
   ]
  },
  {
   "cell_type": "code",
   "execution_count": 33,
   "id": "b755ca3f",
   "metadata": {},
   "outputs": [
    {
     "name": "stdout",
     "output_type": "stream",
     "text": [
      "Enter your number 789\n",
      "987\n"
     ]
    }
   ],
   "source": [
    "num = int(input(\"Enter your number \"))\n",
    "rev = 0\n",
    "\n",
    "while num != 0:\n",
    "    a = num % 10\n",
    "    rev = a + rev * 10\n",
    "    num = num // 10\n",
    "print(rev)"
   ]
  },
  {
   "cell_type": "code",
   "execution_count": 34,
   "id": "aa72a49f",
   "metadata": {},
   "outputs": [
    {
     "name": "stdout",
     "output_type": "stream",
     "text": [
      "in g(x): x =  4\n"
     ]
    },
    {
     "ename": "TypeError",
     "evalue": "h() missing 1 required positional argument: 'x'",
     "output_type": "error",
     "traceback": [
      "\u001b[1;31m---------------------------------------------------------------------------\u001b[0m",
      "\u001b[1;31mTypeError\u001b[0m                                 Traceback (most recent call last)",
      "Input \u001b[1;32mIn [34]\u001b[0m, in \u001b[0;36m<cell line: 10>\u001b[1;34m()\u001b[0m\n\u001b[0;32m      7\u001b[0m     \u001b[38;5;28;01mreturn\u001b[39;00m x\n\u001b[0;32m      9\u001b[0m x \u001b[38;5;241m=\u001b[39m \u001b[38;5;241m3\u001b[39m\n\u001b[1;32m---> 10\u001b[0m z \u001b[38;5;241m=\u001b[39m \u001b[43mg\u001b[49m\u001b[43m(\u001b[49m\u001b[43mx\u001b[49m\u001b[43m)\u001b[49m\n\u001b[0;32m     11\u001b[0m \u001b[38;5;28mprint\u001b[39m(z)\n",
      "Input \u001b[1;32mIn [34]\u001b[0m, in \u001b[0;36mg\u001b[1;34m(x)\u001b[0m\n\u001b[0;32m      4\u001b[0m x \u001b[38;5;241m+\u001b[39m\u001b[38;5;241m=\u001b[39m \u001b[38;5;241m1\u001b[39m\n\u001b[0;32m      5\u001b[0m \u001b[38;5;28mprint\u001b[39m(\u001b[38;5;124m\"\u001b[39m\u001b[38;5;124min g(x): x = \u001b[39m\u001b[38;5;124m\"\u001b[39m,x)\n\u001b[1;32m----> 6\u001b[0m \u001b[43mh\u001b[49m\u001b[43m(\u001b[49m\u001b[43m)\u001b[49m\n\u001b[0;32m      7\u001b[0m \u001b[38;5;28;01mreturn\u001b[39;00m x\n",
      "\u001b[1;31mTypeError\u001b[0m: h() missing 1 required positional argument: 'x'"
     ]
    }
   ],
   "source": [
    "def g(x):\n",
    "    def h(x):\n",
    "        x = 'abc'\n",
    "    x += 1\n",
    "    print(\"in g(x): x = \",x)\n",
    "    h()\n",
    "    return x\n",
    "\n",
    "x = 3\n",
    "z = g(x)\n",
    "print(z)"
   ]
  },
  {
   "cell_type": "code",
   "execution_count": 35,
   "id": "fee455ce",
   "metadata": {},
   "outputs": [
    {
     "name": "stdout",
     "output_type": "stream",
     "text": [
      "in g(x): x =  4\n",
      "in h(x): x =  5\n",
      "in main programme scope: x=  3\n",
      "in main programme scope: z=  4\n"
     ]
    }
   ],
   "source": [
    "def g(x):\n",
    "    def h(x):\n",
    "        x = x+1\n",
    "        print('in h(x): x = ',x)\n",
    "    x += 1\n",
    "    print('in g(x): x = ',x)\n",
    "    h(x)\n",
    "    return(x)\n",
    "\n",
    "x = 3\n",
    "z = g(x)\n",
    "print('in main programme scope: x= ', x)\n",
    "print('in main programme scope: z= ', z)"
   ]
  },
  {
   "cell_type": "code",
   "execution_count": 36,
   "id": "afa7e57b",
   "metadata": {},
   "outputs": [
    {
     "name": "stdout",
     "output_type": "stream",
     "text": [
      "<class 'function'>\n",
      "2946788296880\n"
     ]
    }
   ],
   "source": [
    "# functions are first class citizens\n",
    "\n",
    "# type and id\n",
    "\n",
    "def square(num):\n",
    "    return num**2\n",
    "\n",
    "\n",
    "print(type(square))\n",
    "print(id(square))"
   ]
  },
  {
   "cell_type": "code",
   "execution_count": 37,
   "id": "90fa5c86",
   "metadata": {},
   "outputs": [
    {
     "data": {
      "text/plain": [
       "9"
      ]
     },
     "execution_count": 37,
     "metadata": {},
     "output_type": "execute_result"
    }
   ],
   "source": [
    "x = square\n",
    "id(x)\n",
    "x(3)"
   ]
  },
  {
   "cell_type": "code",
   "execution_count": 38,
   "id": "bffaddb4",
   "metadata": {},
   "outputs": [],
   "source": [
    "# deleting a function\n",
    "#del square\n"
   ]
  },
  {
   "cell_type": "code",
   "execution_count": 39,
   "id": "f06c894d",
   "metadata": {},
   "outputs": [
    {
     "data": {
      "text/plain": [
       "[1, 2, 3, 4, 5, <function __main__.square(num)>]"
      ]
     },
     "execution_count": 39,
     "metadata": {},
     "output_type": "execute_result"
    }
   ],
   "source": [
    "# storing\n",
    "L = [1,2,3,4,5,square]\n",
    "L"
   ]
  },
  {
   "cell_type": "raw",
   "id": "d8a1a8bc",
   "metadata": {},
   "source": [
    "if function will executed in set that means that function are immutable otherwise function will count in mutable because set will not allow mutable data types."
   ]
  },
  {
   "cell_type": "code",
   "execution_count": 40,
   "id": "72eaa419",
   "metadata": {},
   "outputs": [
    {
     "data": {
      "text/plain": [
       "{<function __main__.square(num)>}"
      ]
     },
     "execution_count": 40,
     "metadata": {},
     "output_type": "execute_result"
    }
   ],
   "source": [
    "s = {square}\n",
    "s"
   ]
  },
  {
   "cell_type": "code",
   "execution_count": 41,
   "id": "ff74aa0c",
   "metadata": {},
   "outputs": [
    {
     "name": "stdout",
     "output_type": "stream",
     "text": [
      "7\n"
     ]
    }
   ],
   "source": [
    "# returning a function\n",
    "\n",
    "def f():\n",
    "    def x(a,b):\n",
    "        return a+b\n",
    "    return x\n",
    "\n",
    "val = f()(3,4)\n",
    "print(val)"
   ]
  },
  {
   "cell_type": "code",
   "execution_count": 42,
   "id": "9b68d07e",
   "metadata": {},
   "outputs": [
    {
     "name": "stdout",
     "output_type": "stream",
     "text": [
      "inside func_c\n",
      "inside func_a\n",
      "None\n"
     ]
    }
   ],
   "source": [
    "def func_a():\n",
    "    print('inside func_a')\n",
    "    \n",
    "def func_b(z):\n",
    "    print('inside func_c')\n",
    "    return z()\n",
    "\n",
    "print(func_b(func_a))"
   ]
  },
  {
   "cell_type": "raw",
   "id": "d7df58fe",
   "metadata": {},
   "source": [
    "Benifits of using a Function\n",
    "\n",
    "# Code Modularity --> codes are divided in modeles such as login, registration, searching all codes                         are written seperately, for example if you are facing a problem in login code                         then you have debug the only code of login.\n",
    "\n",
    "# Code Readability --> since all codes are seperately written then it will easy your work in team you                        can divide the code in all members such as login to another person registration                        to another person etc...\n",
    "\n",
    "# Code reusability --> you write one and can use multiple times..."
   ]
  },
  {
   "cell_type": "markdown",
   "id": "72a03bd6",
   "metadata": {},
   "source": [
    "# LAMBDA FUNCTION A,B: A+B\n",
    "                                       \n",
    "#### Lambda Keyword :--> Creates the lambda expression                                       \n",
    "#### Parameters(A,B) :--> one or more parameters are supported must be seperated by                                                                               comma (,) and no parantheses    \n",
    "#### Colon (:) --> this is a cue for the expression.\n",
    "#### Expression(A+B):--> Must be a single valid python Expression"
   ]
  },
  {
   "cell_type": "code",
   "execution_count": 43,
   "id": "502c9c84",
   "metadata": {},
   "outputs": [
    {
     "data": {
      "text/plain": [
       "4"
      ]
     },
     "execution_count": 43,
     "metadata": {},
     "output_type": "execute_result"
    }
   ],
   "source": [
    "a = lambda x:x**2\n",
    "a(2)"
   ]
  },
  {
   "cell_type": "code",
   "execution_count": 44,
   "id": "7a89e0a2",
   "metadata": {},
   "outputs": [
    {
     "data": {
      "text/plain": [
       "7"
      ]
     },
     "execution_count": 44,
     "metadata": {},
     "output_type": "execute_result"
    }
   ],
   "source": [
    "b = lambda x,y : x+y\n",
    "b(3,4)"
   ]
  },
  {
   "cell_type": "raw",
   "id": "4cdad2fa",
   "metadata": {},
   "source": [
    "difference b/w lambda vs normal function\n",
    "\n",
    "no name\n",
    "lambda has no return value (infacts return a function)\n",
    "lambda is written in one line\n",
    "not reusable\n",
    "\n",
    "\n",
    "they are used eith HOF (Higher order Function)"
   ]
  },
  {
   "cell_type": "code",
   "execution_count": 45,
   "id": "e126e0dc",
   "metadata": {},
   "outputs": [
    {
     "data": {
      "text/plain": [
       "False"
      ]
     },
     "execution_count": 45,
     "metadata": {},
     "output_type": "execute_result"
    }
   ],
   "source": [
    "a = lambda s: 'a' in s\n",
    "a(\"hello\")"
   ]
  },
  {
   "cell_type": "code",
   "execution_count": 46,
   "id": "8644e3b7",
   "metadata": {},
   "outputs": [
    {
     "data": {
      "text/plain": [
       "'odd'"
      ]
     },
     "execution_count": 46,
     "metadata": {},
     "output_type": "execute_result"
    }
   ],
   "source": [
    "a = lambda x:'even' if x%2 == 0 else \"odd\"\n",
    "a(9)"
   ]
  },
  {
   "cell_type": "code",
   "execution_count": 47,
   "id": "224c9309",
   "metadata": {},
   "outputs": [
    {
     "data": {
      "text/plain": [
       "'even'"
      ]
     },
     "execution_count": 47,
     "metadata": {},
     "output_type": "execute_result"
    }
   ],
   "source": [
    "a(6)"
   ]
  },
  {
   "cell_type": "markdown",
   "id": "e564b183",
   "metadata": {},
   "source": [
    "## Map()"
   ]
  },
  {
   "cell_type": "code",
   "execution_count": 48,
   "id": "0327f722",
   "metadata": {},
   "outputs": [
    {
     "data": {
      "text/plain": [
       "[4, 16, 36, 64, 100, 144]"
      ]
     },
     "execution_count": 48,
     "metadata": {},
     "output_type": "execute_result"
    }
   ],
   "source": [
    "list(map(lambda x:x**2,[2,4,6,8,10,12]))"
   ]
  },
  {
   "cell_type": "code",
   "execution_count": 49,
   "id": "b5c77c5c",
   "metadata": {},
   "outputs": [
    {
     "data": {
      "text/plain": [
       "['odd', 'even', 'odd', 'even', 'odd', 'even', 'odd', 'even', 'odd']"
      ]
     },
     "execution_count": 49,
     "metadata": {},
     "output_type": "execute_result"
    }
   ],
   "source": [
    "# odd even labelling of list item\n",
    "l = [1,2,3,4,5,6,7,8,9]\n",
    "list(map(lambda x:'even' if x%2 ==0 else 'odd',l))"
   ]
  },
  {
   "cell_type": "code",
   "execution_count": 50,
   "id": "ad70fe5b",
   "metadata": {},
   "outputs": [
    {
     "data": {
      "text/plain": [
       "['gourab', 'saurabh', 'suman', 'saroj']"
      ]
     },
     "execution_count": 50,
     "metadata": {},
     "output_type": "execute_result"
    }
   ],
   "source": [
    "users = [{\n",
    "    'name':'gourab',\n",
    "    'age':26,\n",
    "    'gender':'male'},\n",
    "    {\n",
    "    'name':'saurabh',\n",
    "    'age':24,\n",
    "    'gender':'male'  \n",
    "    },\n",
    "    {\n",
    "    'name':'suman',\n",
    "    'age':26,\n",
    "    'gender':'male'\n",
    "    },\n",
    "    {\n",
    "    'name':'saroj',\n",
    "    'age':26,\n",
    "    'gender':'male'\n",
    "    }\n",
    "]\n",
    "\n",
    "list(map(lambda users:users['name'],users ))"
   ]
  },
  {
   "cell_type": "code",
   "execution_count": 51,
   "id": "a4176cba",
   "metadata": {},
   "outputs": [
    {
     "data": {
      "text/plain": [
       "[26, 24, 26, 26]"
      ]
     },
     "execution_count": 51,
     "metadata": {},
     "output_type": "execute_result"
    }
   ],
   "source": [
    "list(map(lambda users:users['age'],users ))"
   ]
  },
  {
   "cell_type": "code",
   "execution_count": 52,
   "id": "cb5e8c08",
   "metadata": {},
   "outputs": [
    {
     "data": {
      "text/plain": [
       "['male', 'male', 'male', 'male']"
      ]
     },
     "execution_count": 52,
     "metadata": {},
     "output_type": "execute_result"
    }
   ],
   "source": [
    "list(map(lambda users:users['gender'],users ))"
   ]
  },
  {
   "cell_type": "markdown",
   "id": "c439947d",
   "metadata": {},
   "source": [
    "# Filter()"
   ]
  },
  {
   "cell_type": "code",
   "execution_count": 53,
   "id": "c486ac3d",
   "metadata": {},
   "outputs": [
    {
     "data": {
      "text/plain": [
       "[7, 9, 11]"
      ]
     },
     "execution_count": 53,
     "metadata": {},
     "output_type": "execute_result"
    }
   ],
   "source": [
    "l = [1,3,5,7,9,11]\n",
    "\n",
    "list(filter(lambda x: x>5,l))"
   ]
  },
  {
   "cell_type": "code",
   "execution_count": 54,
   "id": "62173bc8",
   "metadata": {},
   "outputs": [
    {
     "data": {
      "text/plain": [
       "['Apple',\n",
       " 'Acerola Cherries',\n",
       " 'African Breadfruit',\n",
       " 'Akebi Fruit',\n",
       " 'Alpine Strawberry',\n",
       " 'African Mango',\n",
       " 'Amanatsu oranges']"
      ]
     },
     "execution_count": 54,
     "metadata": {},
     "output_type": "execute_result"
    }
   ],
   "source": [
    "fruits = ['Apple','guava','cherry','Acerola Cherries','African Breadfruit','Akebi Fruit',\n",
    "          'Alpine Strawberry','African Mango','Amanatsu oranges']\n",
    "\n",
    "list(filter(lambda x:x.startswith('A'),(fruits)))"
   ]
  },
  {
   "cell_type": "markdown",
   "id": "ada987d2",
   "metadata": {},
   "source": [
    "# Reduce()"
   ]
  },
  {
   "cell_type": "code",
   "execution_count": 55,
   "id": "c829b2ef",
   "metadata": {},
   "outputs": [
    {
     "data": {
      "text/plain": [
       "15"
      ]
     },
     "execution_count": 55,
     "metadata": {},
     "output_type": "execute_result"
    }
   ],
   "source": [
    "# sum of all items\n",
    "import functools\n",
    "\n",
    "functools.reduce(lambda x,y:x+y,[1,2,3,4,5])  #working--> (1+2+3+4+5)(1+2,3,4,5)(3+3,4,5)(6+4,5)(10+5)"
   ]
  },
  {
   "cell_type": "code",
   "execution_count": 56,
   "id": "e091d7a5",
   "metadata": {},
   "outputs": [
    {
     "data": {
      "text/plain": [
       "1"
      ]
     },
     "execution_count": 56,
     "metadata": {},
     "output_type": "execute_result"
    }
   ],
   "source": [
    "functools.reduce(lambda x,y:x if x<y else y, [23,11,45,10,1])"
   ]
  },
  {
   "cell_type": "code",
   "execution_count": 57,
   "id": "35ec8bbf",
   "metadata": {},
   "outputs": [
    {
     "data": {
      "text/plain": [
       "45"
      ]
     },
     "execution_count": 57,
     "metadata": {},
     "output_type": "execute_result"
    }
   ],
   "source": [
    "functools.reduce(lambda x,y:x if x>y else y, [23,11,45,10,1])"
   ]
  },
  {
   "cell_type": "code",
   "execution_count": null,
   "id": "c1e1854c",
   "metadata": {},
   "outputs": [],
   "source": []
  }
 ],
 "metadata": {
  "kernelspec": {
   "display_name": "Python 3 (ipykernel)",
   "language": "python",
   "name": "python3"
  },
  "language_info": {
   "codemirror_mode": {
    "name": "ipython",
    "version": 3
   },
   "file_extension": ".py",
   "mimetype": "text/x-python",
   "name": "python",
   "nbconvert_exporter": "python",
   "pygments_lexer": "ipython3",
   "version": "3.9.12"
  }
 },
 "nbformat": 4,
 "nbformat_minor": 5
}
